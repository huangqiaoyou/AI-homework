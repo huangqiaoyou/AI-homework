{
 "cells": [
  {
   "cell_type": "markdown",
   "metadata": {},
   "source": [
    "# Introduction to Artificial Intelligence for Non Computing"
   ]
  },
  {
   "cell_type": "markdown",
   "metadata": {},
   "source": [
    "## Practical 3 (weeks 5 - 6)"
   ]
  },
  {
   "cell_type": "markdown",
   "metadata": {},
   "source": [
    "The following links provide additional information about data analysis , machine learning and Numpy"
   ]
  },
  {
   "cell_type": "markdown",
   "metadata": {},
   "source": [
    "Python data analysis: https://www.imooc.com/learn/843\n",
    "machine learning: https://www.imooc.com/learn/717\n",
    "Numpy :https://www.imooc.com/learn/943"
   ]
  },
  {
   "cell_type": "markdown",
   "metadata": {},
   "source": [
    "#### Theory Questions"
   ]
  },
  {
   "cell_type": "markdown",
   "metadata": {},
   "source": [
    "1\\.Which of the following are true and which are false? Give brief explanations.\n",
    "- a. In a fully observable, turn-taking, zero-sum game between two perfectly rational players,it does not help the first player to know what strategy the second player is using—that is, what move the second player will make, given the first player's move.\n",
    "- b. In a partially observable, turn-taking, zero-sum game between two perfectly rational players, it does not help the first player to know what move the second player will make, given the first player's move.\n",
    "- c. A perfectly rational backgammon agent never loses.\n",
    "\n",
    "See textbook Chapter6 24.6"
   ]
  },
  {
   "cell_type": "markdown",
   "metadata": {},
   "source": [
    "_your answer here..._ \n",
    "\n",
    "A. True..\n",
    "The second player will be optimal, so it is entirely predictable in a draw. Knowing which of your opponent's two equally good moves will not change the value of the game to the first player.\n",
    "B. False.\n",
    "In some of the observable games, knowing the movements of the second player will tell the first player additional information about the state of the game, otherwise only the second player will have access to that information.\n",
    "C. False.\n",
    "Backgammon is a game of chance where opponents may keep rolling better dice.\n",
    "It is correct to say that the expected bonus is optimal.\n",
    "\n",
    "***"
   ]
  },
  {
   "cell_type": "markdown",
   "metadata": {},
   "source": [
    "2\\.Define in your own words the terms constraint, backtracking search, arc consistency,backjumping, min-conflicts, and cycle cutset.\n",
    "\n",
    "See textbook Chapter6 6.16\n"
   ]
  },
  {
   "cell_type": "markdown",
   "metadata": {},
   "source": [
    "_your answer here..._ \n",
    "• constraint: A constraint is a restriction on the possible values of two or more variables.\n",
    "• backtracking search: Backtracking search is a kind of depth-first search (DFS). For a certain search tree (search tree is the role of recording path and state judgment), backtracking and DFS. the main difference is that backtracking method is not in the solution process. The complete tree structure is preserved. while the depth-first search records the complete search tree.\n",
    "• arc consistency:A directed arc from variable A to variable B in a CSP is arc consistent it for every value in the current domain of A. there is some consistent value of B.\n",
    "• backjumping: Backjumping is a way of making backtracking search more efficient, by jumping back more than one level when a dead end is reached.\n",
    "• min-conflicts: min-conflicts is a heuristic for use with local search on CSP problems. The heuristic says that, when given a variable to modify, choose the value that conflicts with the fewest number of other variables.\n",
    "• cycle cutset: A cycle cutset is a set of variables which when removed from the constraint graph make it acyclic (i.e., a tree). When the variables of a cycle cutset are instantiated the remainder of the CSP can be solved in linear time.\n",
    "\n",
    "***"
   ]
  },
  {
   "cell_type": "markdown",
   "metadata": {},
   "source": [
    "3\\.Explain why it is a good heuristic to choose the variable that is most constrained but the value that is least constraining in a CSP search.\n",
    "\n",
    "See textbook Chapter6 6.9"
   ]
  },
  {
   "cell_type": "markdown",
   "metadata": {},
   "source": [
    "_your answer here..._ \n",
    " The most constrained variable makes sense because it chooses a variable that is (all other things being equal) likely to cause a failure, and it is more efficient to rail as early as possible (thereby pruning large parts of the search space). The least constraining value heuristic makes sense because it allows the most chances for future assignments to avoid conflict.\n",
    "\n",
    "***"
   ]
  },
  {
   "cell_type": "markdown",
   "metadata": {},
   "source": [
    "4\\.Consider the following procedure for choosing moves in games with chance nodes: \n",
    "- 1、Generate some dice-roll sequences (say, 50) down to a suitable depth (say, 8).\n",
    "- 2、With known dice rolls, the game tree becomes deterministic. For each dice-roll sequence,solve the resulting deterministic game tree using alpha-beta.\n",
    "- 3、Use the results to estimate the value of each move and to choose the best.Will this procedure work well? Why (or why not)?\n",
    "\n",
    "See textbook Chapter5 5.19"
   ]
  },
  {
   "cell_type": "markdown",
   "metadata": {},
   "source": [
    "_your answer here..._ \n",
    "This procedure will give incorrect results. Mathematically, the procedure amounts to assuming that averaging commutes with mm and max, which it does not. Intuitively, the choices made by each player in the deterministic trees are based on full knowledge of future dice rolls, and bear no necessary relationship to the moves made without such knowledge.\n",
    "\n",
    "***"
   ]
  },
  {
   "cell_type": "markdown",
   "metadata": {},
   "source": [
    "5\\. Now,please consider this game:  there are three plates A, B and C, each plate has three bills. A puts 1, 20, 50; B puts 5, 10, 100; C puts 1, 5, 20. All units are \"Yuan\". There are two persons A and B, and two of them can check out three plates and banknotes .（ A is ourself, The other is B）\n",
    "The game is divided into three steps: \n",
    "- 1、A select a plate from three plate.\n",
    "- 2、B take out two banknotes from A selected plate,and give the  banknotes to A.  \n",
    "- 3、A take one of the two banknotes, and take it away.among,A want to get the max banknotes, B want to let A to get the min.\n",
    "\n",
    "Try to understand the minimax algorithm，you can click the link:https://blog.csdn.net/tangchenyi/article/details/22920031"
   ]
  },
  {
   "cell_type": "markdown",
   "metadata": {},
   "source": [
    "_your answer here..._ \n",
    "In this example, A will choose plate A to make the maximized profit. Then B will take out 1 and 20 to minimize A's profit. Finally, A will choose 20. This is an example of minimax algorithm. \n",
    "***"
   ]
  },
  {
   "cell_type": "markdown",
   "metadata": {},
   "source": [
    "### Programming Excercises"
   ]
  },
  {
   "cell_type": "markdown",
   "metadata": {},
   "source": [
    "1\\. Guess number(Single number): please generate a randomly number  with the function (random), then ask someone to guess the number,I think we should give the corresponding hint, otherwise it will be very difficult to guess the number.the game will be over untill you get the right number."
   ]
  },
  {
   "cell_type": "code",
   "execution_count": 1,
   "metadata": {},
   "outputs": [
    {
     "name": "stdout",
     "output_type": "stream",
     "text": [
      "########  猜数字小游戏   #########\n",
      "#  1.开始游戏  2.任意键退出游戏  #\n",
      "请选择：1\n",
      "不妨猜一下我现心里想的数字是几（0-100）：50\n",
      "我心里想的数字比50大\n",
      "不妨猜一下我现心里想的数字是几（0-100）：75\n",
      "我心里想的数字比75大\n",
      "不妨猜一下我现心里想的数字是几（0-100）：85\n",
      "我心里想的数字比85大\n",
      "不妨猜一下我现心里想的数字是几（0-100）：95\n",
      "恭喜，猜中了！\n"
     ]
    }
   ],
   "source": [
    "## write your answer here!\n",
    "#!/usr/bin/env python\n",
    "# -*- coding: utf-8 -*-\n",
    "#include <cmath>\n",
    "import random\n",
    "print(\"########  猜数字小游戏   #########\")\n",
    "print(\"#  1.开始游戏  2.任意键退出游戏  #\")\n",
    "put = input(\"请选择：\")\n",
    "if put == \"1\":\n",
    "    secret = random.randint(0, 100)\n",
    "    result=0\n",
    "    while(result==0):\n",
    "        temp = input(\"不妨猜一下我现心里想的数字是几（0-100）：\")\n",
    "        temp2 = temp.strip()\n",
    "        if (temp2.isdigit()&result==0):\n",
    "            temp1 = int(temp2)\n",
    "            if(temp1>secret):\n",
    "                print(\"我心里想的数字比%s小\"%(temp1))\n",
    "            elif(temp1<secret):\n",
    "                print(\"我心里想的数字比%s大\"%(temp1))\n",
    "            else:\n",
    "                print(\"恭喜，猜中了！\")\n",
    "                exit(\"猜中了!\")\n",
    "                result=1\n",
    "\n",
    "        else:\n",
    "            print(\"Error:'%s'不是一个数字，请输入一个整数\" % temp)\n",
    "else:\n",
    "     exit(\"退出游戏成功!\")"
   ]
  },
  {
   "cell_type": "markdown",
   "metadata": {},
   "source": [
    "2\\.if you had understand the guess single number games,Congratulates,next is the guess three number games,Maybe you can do it well.But this is a different way of thinking. \n",
    "first : we need generate three numbers,there are most ten times chances give  you to guess the number,of course,we also give you some cue.\n",
    "\n",
    "- 'When I say:-->It means:\n",
    "- 'error--> The 3 numbers are not in the mystical numbers.'\n",
    "- 'Only the number is correct --> the number is right , but the position is not right.'\n",
    "- 'Absolutely right--> numbers is right and the position also right.'\n",
    "\n",
    "Maybe it's better for you to understand the rule well through see the picture.\n",
    "<div style=\"float:left;\" ><img src=\"img/p1.png\" width=\"400\" height=\"300\" >"
   ]
  },
  {
   "cell_type": "code",
   "execution_count": null,
   "metadata": {},
   "outputs": [
    {
     "name": "stdout",
     "output_type": "stream",
     "text": [
      "########  猜数字小游戏   #########\n",
      "#  1.开始游戏  2.任意键退出游戏  #\n",
      "请选择：1\n",
      "不妨猜一下我现心里想的数字是几（100-999）：123\n",
      "[‘Only the number is correct', 'error','error']\n",
      "不妨猜一下我现心里想的数字是几（100-999）：415\n",
      "[‘Absolutely right', 'Absolutely right','error']\n",
      "不妨猜一下我现心里想的数字是几（100-999）：416\n",
      "[‘Absolutely right', 'Absolutely right','error']\n",
      "不妨猜一下我现心里想的数字是几（100-999）：417\n",
      "[‘Absolutely right', 'Absolutely right','error']\n",
      "不妨猜一下我现心里想的数字是几（100-999）：418\n",
      "[‘Absolutely right', 'Absolutely right','Absolutely right']\n"
     ]
    }
   ],
   "source": [
    "\n",
    "#!/usr/bin/env python\n",
    "# -*- coding: utf-8 -*-\n",
    "import cmath\n",
    "import random\n",
    "def judge(a, b):\n",
    "    if(a==b):\n",
    "        return 1\n",
    "    else:\n",
    "        return 0\n",
    "\n",
    "def printing( a):\n",
    "    if(a==0):\n",
    "        return \"error\"\n",
    "    elif(a==1):\n",
    "        return \"Only the number is correct\"\n",
    "    else:\n",
    "        return \"Absolutely right\"\n",
    "\n",
    "print(\"########  猜数字小游戏   #########\")\n",
    "print(\"#  1.开始游戏  2.任意键退出游戏  #\")\n",
    "put = input(\"请选择：\")\n",
    "if put == \"1\":\n",
    "    secret1 = random.randint(100, 999)\n",
    "    number=10\n",
    "    result3=0\n",
    "    while(number>0&result3==0):\n",
    "        temp = input(\"不妨猜一下我现心里想的数字是几（100-999）：\")\n",
    "        temp2 = temp.strip()\n",
    "        temp=[0,0,0]\n",
    "        result=[0,0,0]\n",
    "        if (temp2.isdigit()):\n",
    "            temp1 = int(temp2)\n",
    "            temp[0]=int(temp1/100)\n",
    "            temp[1]=int(temp1/10)-10*temp[0]\n",
    "            temp[2]=temp1-temp[1]*10-temp[0]*100\n",
    "            #print(secret1)\n",
    "            #print(int(temp[0]),int(temp[1]),int(temp[2]))\n",
    "            secret=[0,0,0]\n",
    "            secret[0]=int(secret1/100)\n",
    "            secret[1]=int(secret1/10)-10*secret[0]\n",
    "            secret[2]=secret1-secret[1]*10-secret[0]*100\n",
    "            #print(secret[0],secret[1],secret[2])\n",
    "\n",
    "            for i in range(3):\n",
    "                for j in range(3):\n",
    "                    if(temp[i]==secret[j]):\n",
    "                        if(i==j): result[i]= 2\n",
    "                        else: result[i]=1\n",
    "            print(\"[‘%s', '%s','%s']\"%(printing(result[0]),printing(result[1]),printing(result[2])))\n",
    "            number=number-1\n",
    "\n",
    "        else:\n",
    "            print(\"Error:'%s'不是一个数字，请输入一个整数\" % temp)\n",
    "        if(result[0]+result[1]+result[2]==6):\n",
    "            result3=1\n",
    "            exit(\"恭喜你答对了！\")\n",
    "else:\n",
    "     exit(\"退出游戏成功!\")\n"
   ]
  },
  {
   "cell_type": "markdown",
   "metadata": {},
   "source": [
    "3\\.please try using Python's Tkinter to make a visual interface（GUI）.if you don't know anything.Maybe you can refer to the below interface.and implement it by code.\n",
    "\n",
    "<div style=\"float:left;\" ><img src=\"img/p2.png\" width=\"200\" height=\"200\" >"
   ]
  },
  {
   "cell_type": "code",
   "execution_count": 4,
   "metadata": {},
   "outputs": [],
   "source": [
    "from tkinter import *\n",
    "\n",
    "top=Tk()\n",
    "top.wm_title(\"Menu\")\n",
    "top.geometry(\"400x300+300+100\")\n",
    "\n",
    "menubar=Menu(top)\n",
    "\n",
    "fmenu1=Menu(top)\n",
    "for item in ['new','open','save','save as']:\n",
    "    \n",
    "    fmenu1.add_command(label=item)\n",
    "\n",
    "fmenu2=Menu(top)\n",
    "for item in ['copy','paste','cut']:\n",
    "    fmenu2.add_command(label=item)\n",
    "\n",
    "fmenu3=Menu(top)\n",
    "for item in ['默认视图','新式视图']:\n",
    "    fmenu3.add_command(label=item)\n",
    "\n",
    "fmenu4=Menu(top)\n",
    "for item in [\"版权信息\",\"其他说明\"]:\n",
    "    fmenu4.add_command(label=item)\n",
    "\n",
    "\n",
    "menubar.add_cascade(label=\"file\",menu=fmenu1)\n",
    "menubar.add_cascade(label=\"edit\",menu=fmenu2)\n",
    "menubar.add_cascade(label=\"view\",menu=fmenu3)\n",
    "menubar.add_cascade(label=\"about\",menu=fmenu4)\n",
    "\n",
    "\n",
    "top['menu']=menubar\n",
    "top.mainloop()"
   ]
  },
  {
   "cell_type": "markdown",
   "metadata": {},
   "source": [
    "4\\.Through the initial trial of Tkinter,    please write a simple calculator.\n",
    "\n",
    "<div style=\"float:left;\" ><img src=\"img/p3.png\" width=\"180\" height=\"200\" center=\"left\"></div>\n",
    "<div style=\"float:left;\" ><img src=\"img/p4.png\" width=\"180\" height=\"200\" center=\"right\" ></div>"
   ]
  },
  {
   "cell_type": "code",
   "execution_count": 3,
   "metadata": {},
   "outputs": [],
   "source": [
    "## write your answer here!\n",
    "## write your answer here!\n",
    "from tkinter import *\n",
    "def frame(root, side):\n",
    "    w = Frame(root)\n",
    "    w.pack(side = side, expand = YES, fill = BOTH)\n",
    "    return w\n",
    "\n",
    "def button(root, side, text, command = None):\n",
    "    w = Button(root, text = text, command = command)\n",
    "    w.pack(side = side, expand = YES, fill = BOTH)\n",
    "    return w\n",
    "\n",
    "class Calculator(Frame):\n",
    "    def calc(self, display):\n",
    "        try:\n",
    "            display.set(eval(display.get()))\n",
    "        except:\n",
    "            display.set(\"ERROR\")\n",
    "    def __init__(self):\n",
    "\n",
    "        Frame.__init__(self)\n",
    "\n",
    "        self.pack(expand = YES, fill = BOTH)\n",
    "        self.master.title('Simple Calculater')\n",
    "\n",
    "        display = StringVar()\n",
    "\n",
    "        Entry(self, relief = SUNKEN,\n",
    "              textvariable = display).pack(side = TOP, expand = YES,\n",
    "                                           fill = BOTH)\n",
    "\n",
    "        for key in('123', '456', '789', '%0.'):\n",
    "            keyF = frame(self, TOP)\n",
    "            for char in key:\n",
    "                button(keyF, LEFT, char, lambda w = display, c = char:w.set(w.get() + c))\n",
    "\n",
    "        opsF = frame(self, TOP)\n",
    "        for char in '+-*/=':\n",
    "            if char == '=':\n",
    "                btn = button(opsF, LEFT, char)\n",
    "                btn.bind('<ButtonRelease - 1>', lambda e, s = self, w = display:s.calc(w), '+')\n",
    "\n",
    "            else:\n",
    "                btn = button(opsF, LEFT, char, lambda w = display, s = '%s' %char:w.set(w.get() + s))\n",
    "\n",
    "        clearF = frame(self, BOTTOM)\n",
    "        button(clearF, LEFT, 'clear', lambda w = display:w.set(''))\n",
    "        for fm in ['red']:\n",
    "         Frame(height = 30,width = 600,bg = fm).pack()\n",
    "\n",
    "\n",
    "if __name__ == '__main__':\n",
    "    for fm in ['yellow']:\n",
    "        Frame(height = 30,width = 600,bg = fm).pack()\n",
    "    Calculator().mainloop()"
   ]
  },
  {
   "cell_type": "markdown",
   "metadata": {},
   "source": [
    "5\\.Ball game:Python's pinball game, which can realize the game function of the keyboard control bottom baffle moving collision ball similar to table tennis game. \n",
    "\n",
    "<div style=\"float:left;\" ><img src=\"img/p5.png\" width=\"200\" height=\"200\" center=\"left\"></div>\n",
    "<div style=\"float:left;\" ><img src=\"img/p6.png\" width=\"200\" height=\"200\" center=\"right\" ></div>\n"
   ]
  },
  {
   "cell_type": "markdown",
   "metadata": {},
   "source": [
    "this is a step:how to install the matplotlib,you can reference this link:https://blog.csdn.net/not_give_up_/article/details/79058272\n",
    "1. Ball Class\n",
    "    draw is responsible for moving Ball\n",
    "    Collision detection, bounce, Ball detection of Paddle \n",
    "2. Paddle Class\n",
    "    draw is responsible for moving Paddle\n",
    "    Collision detection to determine whether or not to continue ,Monitor keyboard events\n",
    "3. main cycle\n",
    "    Drawing the Ball and Paddle"
   ]
  },
  {
   "cell_type": "code",
   "execution_count": 2,
   "metadata": {},
   "outputs": [
    {
     "ename": "TclError",
     "evalue": "invalid command name \".!canvas\"",
     "output_type": "error",
     "traceback": [
      "\u001b[1;31m---------------------------------------------------------------------------\u001b[0m",
      "\u001b[1;31mTclError\u001b[0m                                  Traceback (most recent call last)",
      "\u001b[1;32m<ipython-input-2-25313b541a39>\u001b[0m in \u001b[0;36m<module>\u001b[1;34m()\u001b[0m\n\u001b[0;32m     65\u001b[0m \u001b[1;32mwhile\u001b[0m \u001b[1;36m1\u001b[0m\u001b[1;33m:\u001b[0m\u001b[1;33m\u001b[0m\u001b[0m\n\u001b[0;32m     66\u001b[0m   \u001b[1;32mif\u001b[0m \u001b[1;33m(\u001b[0m\u001b[0mball\u001b[0m\u001b[1;33m.\u001b[0m\u001b[0mhit_bottom\u001b[0m \u001b[1;33m==\u001b[0m \u001b[1;32mFalse\u001b[0m\u001b[1;33m)\u001b[0m\u001b[1;33m:\u001b[0m\u001b[1;33m\u001b[0m\u001b[0m\n\u001b[1;32m---> 67\u001b[1;33m     \u001b[0mball\u001b[0m\u001b[1;33m.\u001b[0m\u001b[0mdraw\u001b[0m\u001b[1;33m(\u001b[0m\u001b[1;33m)\u001b[0m\u001b[1;33m\u001b[0m\u001b[0m\n\u001b[0m\u001b[0;32m     68\u001b[0m     \u001b[0mpaddle\u001b[0m\u001b[1;33m.\u001b[0m\u001b[0mdraw\u001b[0m\u001b[1;33m(\u001b[0m\u001b[1;33m)\u001b[0m\u001b[1;33m\u001b[0m\u001b[0m\n\u001b[0;32m     69\u001b[0m  \u001b[1;31m# tk.update_idletasks()\u001b[0m\u001b[1;33m\u001b[0m\u001b[1;33m\u001b[0m\u001b[0m\n",
      "\u001b[1;32m<ipython-input-2-25313b541a39>\u001b[0m in \u001b[0;36mdraw\u001b[1;34m(self)\u001b[0m\n\u001b[0;32m     22\u001b[0m \u001b[1;33m\u001b[0m\u001b[0m\n\u001b[0;32m     23\u001b[0m   \u001b[1;32mdef\u001b[0m \u001b[0mdraw\u001b[0m\u001b[1;33m(\u001b[0m\u001b[0mself\u001b[0m\u001b[1;33m)\u001b[0m\u001b[1;33m:\u001b[0m\u001b[1;33m\u001b[0m\u001b[0m\n\u001b[1;32m---> 24\u001b[1;33m     \u001b[0mself\u001b[0m\u001b[1;33m.\u001b[0m\u001b[0mcanvas\u001b[0m\u001b[1;33m.\u001b[0m\u001b[0mmove\u001b[0m\u001b[1;33m(\u001b[0m\u001b[0mself\u001b[0m\u001b[1;33m.\u001b[0m\u001b[0mid\u001b[0m\u001b[1;33m,\u001b[0m \u001b[0mself\u001b[0m\u001b[1;33m.\u001b[0m\u001b[0mx\u001b[0m\u001b[1;33m,\u001b[0m \u001b[0mself\u001b[0m\u001b[1;33m.\u001b[0m\u001b[0my\u001b[0m\u001b[1;33m)\u001b[0m\u001b[1;33m\u001b[0m\u001b[0m\n\u001b[0m\u001b[0;32m     25\u001b[0m     \u001b[0mpos\u001b[0m \u001b[1;33m=\u001b[0m \u001b[0mself\u001b[0m\u001b[1;33m.\u001b[0m\u001b[0mcanvas\u001b[0m\u001b[1;33m.\u001b[0m\u001b[0mcoords\u001b[0m\u001b[1;33m(\u001b[0m\u001b[0mself\u001b[0m\u001b[1;33m.\u001b[0m\u001b[0mid\u001b[0m\u001b[1;33m)\u001b[0m\u001b[1;33m\u001b[0m\u001b[0m\n\u001b[0;32m     26\u001b[0m     \u001b[1;32mif\u001b[0m \u001b[1;33m(\u001b[0m\u001b[0mpos\u001b[0m\u001b[1;33m[\u001b[0m\u001b[1;36m3\u001b[0m\u001b[1;33m]\u001b[0m \u001b[1;33m>=\u001b[0m \u001b[0mself\u001b[0m\u001b[1;33m.\u001b[0m\u001b[0mcanvas_height\u001b[0m\u001b[1;33m)\u001b[0m\u001b[1;33m:\u001b[0m\u001b[1;33m\u001b[0m\u001b[0m\n",
      "\u001b[1;32m~\\Anaconda3\\lib\\tkinter\\__init__.py\u001b[0m in \u001b[0;36mmove\u001b[1;34m(self, *args)\u001b[0m\n\u001b[0;32m   2586\u001b[0m     \u001b[1;32mdef\u001b[0m \u001b[0mmove\u001b[0m\u001b[1;33m(\u001b[0m\u001b[0mself\u001b[0m\u001b[1;33m,\u001b[0m \u001b[1;33m*\u001b[0m\u001b[0margs\u001b[0m\u001b[1;33m)\u001b[0m\u001b[1;33m:\u001b[0m\u001b[1;33m\u001b[0m\u001b[0m\n\u001b[0;32m   2587\u001b[0m         \u001b[1;34m\"\"\"Move an item TAGORID given in ARGS.\"\"\"\u001b[0m\u001b[1;33m\u001b[0m\u001b[0m\n\u001b[1;32m-> 2588\u001b[1;33m         \u001b[0mself\u001b[0m\u001b[1;33m.\u001b[0m\u001b[0mtk\u001b[0m\u001b[1;33m.\u001b[0m\u001b[0mcall\u001b[0m\u001b[1;33m(\u001b[0m\u001b[1;33m(\u001b[0m\u001b[0mself\u001b[0m\u001b[1;33m.\u001b[0m\u001b[0m_w\u001b[0m\u001b[1;33m,\u001b[0m \u001b[1;34m'move'\u001b[0m\u001b[1;33m)\u001b[0m \u001b[1;33m+\u001b[0m \u001b[0margs\u001b[0m\u001b[1;33m)\u001b[0m\u001b[1;33m\u001b[0m\u001b[0m\n\u001b[0m\u001b[0;32m   2589\u001b[0m     \u001b[1;32mdef\u001b[0m \u001b[0mpostscript\u001b[0m\u001b[1;33m(\u001b[0m\u001b[0mself\u001b[0m\u001b[1;33m,\u001b[0m \u001b[0mcnf\u001b[0m\u001b[1;33m=\u001b[0m\u001b[1;33m{\u001b[0m\u001b[1;33m}\u001b[0m\u001b[1;33m,\u001b[0m \u001b[1;33m**\u001b[0m\u001b[0mkw\u001b[0m\u001b[1;33m)\u001b[0m\u001b[1;33m:\u001b[0m\u001b[1;33m\u001b[0m\u001b[0m\n\u001b[0;32m   2590\u001b[0m         \"\"\"Print the contents of the canvas to a postscript\n",
      "\u001b[1;31mTclError\u001b[0m: invalid command name \".!canvas\""
     ]
    }
   ],
   "source": [
    "## write your answer here!\n",
    "from tkinter import *\n",
    "import matplotlib\n",
    "matplotlib.use('Agg')\n",
    "import random\n",
    "import time\n",
    "#ball move\n",
    "class Ball:\n",
    "\n",
    "\n",
    "# add a yellow paddle\n",
    " def __init__(self, canvas, paddle, color):\n",
    "    self.canvas = canvas\n",
    "    self.paddle = paddle\n",
    "    self.id = canvas.create_oval(10, 10, 25, 25, fill=color)\n",
    "    self.canvas.move(self.id, 245, 100)\n",
    "    startx = [-3, -2, -1, 1, 2, 3]\n",
    "    random.shuffle(startx)\n",
    "    self.x = startx[0]\n",
    "    self.y = -3\n",
    "    self.canvas_height = self.canvas.winfo_height()\n",
    "    self.canvas_width = self.canvas.winfo_width()\n",
    "    self.hit_bottom = False\n",
    " def draw(self):\n",
    "    self.canvas.move(self.id, self.x, self.y)\n",
    "    pos = self.canvas.coords(self.id)\n",
    "    if (pos[3] >= self.canvas_height):\n",
    "      self.hit_bottom = True\n",
    "    if (pos[1] <= 0 or self.hit_paddle(pos) == True):\n",
    "      self.y = -self.y\n",
    "    if (pos[0] <= 0 or pos[2] >= self.canvas_width):\n",
    "      self.x = -self.x\n",
    "\n",
    "  def hit_paddle(self, pos):\n",
    "    paddle_pos = self.canvas.coords(self.paddle.id)\n",
    "    if (pos[2] >= paddle_pos[0] and pos[0] <= paddle_pos[2]):\n",
    "      if (pos[3] >= paddle_pos[1] and pos[3] <= paddle_pos[3]):\n",
    "        return True\n",
    "    return False\n",
    "class Paddle:\n",
    "  def __init__(self, canvas, color):\n",
    "    self.canvas = canvas\n",
    "    self.id = canvas.create_rectangle(0, 0, 300, 10, fill = color)\n",
    "    self.x = 0\n",
    "    self.canvas.move(self.id, 200, 300)\n",
    "    self.canvas_width = self.canvas.winfo_width()\n",
    "    self.canvas.bind_all(\"<Key-Left>\", self.turn_left)\n",
    "    self.canvas.bind_all(\"<Key-Right>\", self.turn_right)\n",
    "  def draw(self):\n",
    "    pos = self.canvas.coords(self.id)\n",
    "    if (pos[0] + self.x >= 0 and pos[2] + self.x <= self.canvas_width):\n",
    "      self.canvas.move(self.id, self.x, 0)\n",
    "    #self.x = 0\n",
    "  def turn_left(self, event):\n",
    "    self.x = -4\n",
    "  def turn_right(self, event):\n",
    "    self.x = 4\n",
    "tk = Tk()\n",
    "tk.title(\"Game\")\n",
    "tk.resizable(0, 0)\n",
    "tk.wm_attributes(\"-topmost\", 1)\n",
    "canvas = Canvas(tk, width = 700, height = 700, bd = 0, highlightthickness = 0)\n",
    "canvas.pack()\n",
    "tk.update()\n",
    "paddle = Paddle(canvas, 'yellow')\n",
    "ball = Ball(canvas, paddle, 'black')\n",
    "while 1:\n",
    "  if (ball.hit_bottom == False):\n",
    "    ball.draw()\n",
    "    paddle.draw()\n",
    "  tk.update_idletasks()\n",
    "  tk.update()\n",
    "  time.sleep(0.02)\n",
    "tk.mainloop()\n"
   ]
  },
  {
   "cell_type": "code",
   "execution_count": null,
   "metadata": {},
   "outputs": [],
   "source": []
  }
 ],
 "metadata": {
  "kernelspec": {
   "display_name": "Python 3",
   "language": "python",
   "name": "python3"
  },
  "language_info": {
   "codemirror_mode": {
    "name": "ipython",
    "version": 3
   },
   "file_extension": ".py",
   "mimetype": "text/x-python",
   "name": "python",
   "nbconvert_exporter": "python",
   "pygments_lexer": "ipython3",
   "version": "3.6.5"
  }
 },
 "nbformat": 4,
 "nbformat_minor": 2
}
