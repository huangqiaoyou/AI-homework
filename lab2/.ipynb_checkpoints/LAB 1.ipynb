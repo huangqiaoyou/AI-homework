{
 "cells": [
  {
   "cell_type": "code",
   "execution_count": 1,
   "metadata": {},
   "outputs": [
    {
     "data": {
      "text/plain": [
       "['apple', 'pear', 'orange', 'pinapple', 'mandarin']"
      ]
     },
     "execution_count": 1,
     "metadata": {},
     "output_type": "execute_result"
    }
   ],
   "source": [
    "fruit_list = ['apple','pear','orange','pinapple','mandarin']\n",
    "fruit_list"
   ]
  },
  {
   "cell_type": "code",
   "execution_count": 2,
   "metadata": {},
   "outputs": [
    {
     "name": "stdout",
     "output_type": "stream",
     "text": [
      " I found it !\n"
     ]
    }
   ],
   "source": [
    "for i in range(len(fruit_list)):\n",
    "    if str(fruit_list[i])==\"apple\":\n",
    "        print(\" I found it !\")"
   ]
  },
  {
   "cell_type": "code",
   "execution_count": 3,
   "metadata": {},
   "outputs": [
    {
     "data": {
      "text/plain": [
       "['apple', 'pear', 'orange', 'pinapple', 'mandarin', 'banana', 'kiwi']"
      ]
     },
     "execution_count": 3,
     "metadata": {},
     "output_type": "execute_result"
    }
   ],
   "source": [
    "fruit_list.append('banana')\n",
    "fruit_list.append('kiwi')\n",
    "fruit_list"
   ]
  },
  {
   "cell_type": "code",
   "execution_count": 4,
   "metadata": {},
   "outputs": [
    {
     "name": "stdout",
     "output_type": "stream",
     "text": [
      "apple has 5 letters\n",
      "pear has 4 letters\n",
      "orange has 6 letters\n",
      "pinapple has 8 letters\n",
      "mandarin has 8 letters\n",
      "banana has 6 letters\n",
      "kiwi has 4 letters\n"
     ]
    }
   ],
   "source": [
    "new_list=[]\n",
    "for i in range(len(fruit_list)):\n",
    "    new_list.append(len(fruit_list[i]))\n",
    "    print(str(fruit_list[i])+\" has \"+str(new_list[i])+\" letters\")"
   ]
  },
  {
   "cell_type": "code",
   "execution_count": 17,
   "metadata": {},
   "outputs": [],
   "source": [
    "def half_squared(list):\n",
    "    n_list=[]\n",
    "    for i in range(len(list)):\n",
    "        n_list.append((list[i]*list[i])/2)\n",
    "    return n_list"
   ]
  },
  {
   "cell_type": "code",
   "execution_count": 6,
   "metadata": {},
   "outputs": [
    {
     "name": "stdout",
     "output_type": "stream",
     "text": [
      "True\n"
     ]
    }
   ],
   "source": [
    "a=half_squared([3,3])\n",
    "if a==[4.5,4.5]:\n",
    "    print(\"True\")\n",
    "else:\n",
    "    print(\"Flase\")"
   ]
  },
  {
   "cell_type": "code",
   "execution_count": 8,
   "metadata": {},
   "outputs": [
    {
     "name": "stdout",
     "output_type": "stream",
     "text": [
      "Please input score:\n",
      "66\n",
      "The score 66 you enter is belongs to B\n"
     ]
    }
   ],
   "source": [
    "score = int(input('Please input score:\\n'))\n",
    "if score >= 0 and score <= 100:\n",
    "    if score >= 90:\n",
    "        grade = 'A'\n",
    "    elif score >= 60:\n",
    "        grade = 'B'\n",
    "    else:\n",
    "        grade = 'C'\n",
    "    print ('The score %d you enter is belongs to %s' % (score,grade))\n",
    "else:\n",
    "    print(\"This score is impractical,please lease enter again.\")"
   ]
  },
  {
   "cell_type": "code",
   "execution_count": 10,
   "metadata": {},
   "outputs": [
    {
     "name": "stdout",
     "output_type": "stream",
     "text": [
      "32 12 4\n"
     ]
    }
   ],
   "source": [
    "c"
   ]
  },
  {
   "cell_type": "code",
   "execution_count": 11,
   "metadata": {},
   "outputs": [
    {
     "name": "stdout",
     "output_type": "stream",
     "text": [
      "1\n",
      "2\n",
      "3\n",
      "4\n",
      "5\n",
      "6\n"
     ]
    }
   ],
   "source": [
    "arrs = [[1,2,3],[4,5,6]]\n",
    "for i in arrs:\n",
    "    for j in i:\n",
    "        print(j)"
   ]
  },
  {
   "cell_type": "code",
   "execution_count": 12,
   "metadata": {},
   "outputs": [
    {
     "name": "stdout",
     "output_type": "stream",
     "text": [
      "1\n",
      "8\n",
      "17\n",
      "18\n",
      "26\n",
      "27\n"
     ]
    }
   ],
   "source": [
    "for i in range(1,100):\n",
    "    if i ==sum(map(int,str(pow(i,3)))):\n",
    "        print(i)"
   ]
  },
  {
   "cell_type": "code",
   "execution_count": 13,
   "metadata": {},
   "outputs": [
    {
     "name": "stdout",
     "output_type": "stream",
     "text": [
      "x = 5,y = 9\n",
      "x = 9,y = 5\n"
     ]
    }
   ],
   "source": [
    "import random\n",
    "\n",
    "def exchange(a,b):\n",
    "    a,b = b,a\n",
    "    return (a,b)\n",
    " \n",
    "if __name__ == '__main__':\n",
    "    x = random.randint(1,10)\n",
    "    y = random.randint(1,10)\n",
    "    print ('x = %d,y = %d' % (x,y))\n",
    "    x,y = exchange(x,y)\n",
    "    print ('x = %d,y = %d' % (x,y))"
   ]
  },
  {
   "cell_type": "code",
   "execution_count": 14,
   "metadata": {},
   "outputs": [
    {
     "name": "stdout",
     "output_type": "stream",
     "text": [
      "   *\n",
      "  ***\n",
      " *****\n",
      "*******\n",
      " *****\n",
      "  ***\n",
      "   *\n"
     ]
    }
   ],
   "source": [
    "print(\"   *\")\n",
    "print(\"  ***\")\n",
    "print(\" *****\")\n",
    "print(\"*******\")\n",
    "print(\" *****\")\n",
    "print(\"  ***\")\n",
    "print(\"   *\")"
   ]
  },
  {
   "cell_type": "code",
   "execution_count": 15,
   "metadata": {},
   "outputs": [
    {
     "name": "stdout",
     "output_type": "stream",
     "text": [
      "123456\n",
      "234561\n",
      "345612\n",
      "456123\n",
      "561234\n",
      "612345\n"
     ]
    }
   ],
   "source": [
    "for i in range(1,7):\n",
    "    for j in range(i,7):\n",
    "        print(j,end=\"\")\n",
    "    for l in range(1,i-1+1):\n",
    "        print(l,end=\"\")\n",
    "\n",
    "    print()"
   ]
  },
  {
   "cell_type": "code",
   "execution_count": 18,
   "metadata": {},
   "outputs": [
    {
     "name": "stdout",
     "output_type": "stream",
     "text": [
      "Charles\n",
      "Martina\n",
      "Michael\n",
      "Florence\n"
     ]
    }
   ],
   "source": [
    "players = ['charles','martina','michael','florence','eli']\n",
    "for player in players[0:4]:\n",
    "    print(player.title())"
   ]
  },
  {
   "cell_type": "code",
   "execution_count": null,
   "metadata": {},
   "outputs": [],
   "source": []
  }
 ],
 "metadata": {
  "kernelspec": {
   "display_name": "Python 3",
   "language": "python",
   "name": "python3"
  },
  "language_info": {
   "codemirror_mode": {
    "name": "ipython",
    "version": 3
   },
   "file_extension": ".py",
   "mimetype": "text/x-python",
   "name": "python",
   "nbconvert_exporter": "python",
   "pygments_lexer": "ipython3",
   "version": "3.6.5"
  }
 },
 "nbformat": 4,
 "nbformat_minor": 2
}
